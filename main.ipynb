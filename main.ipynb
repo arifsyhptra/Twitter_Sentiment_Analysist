{
 "cells": [
  {
   "cell_type": "markdown",
   "metadata": {},
   "source": [
    "# Import Libraries"
   ]
  },
  {
   "cell_type": "code",
   "execution_count": 4,
   "metadata": {
    "execution": {
     "iopub.execute_input": "2022-08-31T06:16:15.804258Z",
     "iopub.status.busy": "2022-08-31T06:16:15.803805Z",
     "iopub.status.idle": "2022-08-31T06:16:15.817764Z",
     "shell.execute_reply": "2022-08-31T06:16:15.816111Z",
     "shell.execute_reply.started": "2022-08-31T06:16:15.804218Z"
    }
   },
   "outputs": [],
   "source": [
    "import numpy as np\n",
    "import pandas as pd \n",
    "import time \n",
    "import re\n",
    "\n",
    "from nltk.corpus import stopwords\n",
    "from nltk.tokenize import sent_tokenize, word_tokenize\n",
    "english_stop_words = stopwords.words('english')\n",
    "from sklearn.feature_extraction.text import CountVectorizer\n",
    "from sklearn.feature_extraction.text import TfidfVectorizer\n",
    "\n",
    "from nltk.stem.porter import PorterStemmer\n",
    "from nltk.stem import WordNetLemmatizer\n",
    "\n",
    "\n",
    "#preprocessing\n",
    "from sklearn.model_selection import train_test_split\n",
    "from sklearn.preprocessing import LabelEncoder\n",
    "\n",
    "# machine learning\n",
    "\n",
    "from sklearn.naive_bayes import GaussianNB\n",
    "from sklearn.naive_bayes import MultinomialNB\n",
    "from sklearn.tree import DecisionTreeClassifier\n",
    "from sklearn.ensemble import RandomForestClassifier\n",
    "from sklearn.linear_model import LogisticRegression\n",
    "from sklearn.svm import LinearSVC\n",
    "\n",
    "\n",
    "from sklearn.metrics import classification_report\n",
    "\n",
    "import seaborn as sns\n",
    "sns.set(style ='whitegrid')\n",
    "pd.set_option('display.max_columns',None)\n"
   ]
  },
  {
   "cell_type": "code",
   "execution_count": 5,
   "metadata": {
    "execution": {
     "iopub.execute_input": "2022-08-31T06:16:29.537676Z",
     "iopub.status.busy": "2022-08-31T06:16:29.537262Z",
     "iopub.status.idle": "2022-08-31T06:16:29.767478Z",
     "shell.execute_reply": "2022-08-31T06:16:29.765941Z",
     "shell.execute_reply.started": "2022-08-31T06:16:29.537639Z"
    }
   },
   "outputs": [],
   "source": [
    "headers=['Tweet_ID','Entity','Sentiment','Tweet_content']\n",
    "\n",
    "\n",
    "train_df=pd.read_csv('twitter_training.csv', sep=',', names=headers)\n",
    "\n",
    "valid_df=pd.read_csv('twitter_validation.csv', sep=',', names=headers)"
   ]
  },
  {
   "cell_type": "markdown",
   "metadata": {},
   "source": [
    "# Exploratory Data Analysis"
   ]
  },
  {
   "cell_type": "code",
   "execution_count": 6,
   "metadata": {
    "execution": {
     "iopub.execute_input": "2022-08-31T06:16:36.944367Z",
     "iopub.status.busy": "2022-08-31T06:16:36.943858Z",
     "iopub.status.idle": "2022-08-31T06:16:36.97958Z",
     "shell.execute_reply": "2022-08-31T06:16:36.978539Z",
     "shell.execute_reply.started": "2022-08-31T06:16:36.944325Z"
    }
   },
   "outputs": [
    {
     "data": {
      "text/html": [
       "<div>\n",
       "<style scoped>\n",
       "    .dataframe tbody tr th:only-of-type {\n",
       "        vertical-align: middle;\n",
       "    }\n",
       "\n",
       "    .dataframe tbody tr th {\n",
       "        vertical-align: top;\n",
       "    }\n",
       "\n",
       "    .dataframe thead th {\n",
       "        text-align: right;\n",
       "    }\n",
       "</style>\n",
       "<table border=\"1\" class=\"dataframe\">\n",
       "  <thead>\n",
       "    <tr style=\"text-align: right;\">\n",
       "      <th></th>\n",
       "      <th>Tweet_ID</th>\n",
       "      <th>Entity</th>\n",
       "      <th>Sentiment</th>\n",
       "      <th>Tweet_content</th>\n",
       "    </tr>\n",
       "  </thead>\n",
       "  <tbody>\n",
       "    <tr>\n",
       "      <th>16675</th>\n",
       "      <td>9657</td>\n",
       "      <td>PlayStation5(PS5)</td>\n",
       "      <td>Negative</td>\n",
       "      <td>I think that this behavior of the PS5 casts a ...</td>\n",
       "    </tr>\n",
       "    <tr>\n",
       "      <th>8475</th>\n",
       "      <td>9454</td>\n",
       "      <td>Overwatch</td>\n",
       "      <td>Negative</td>\n",
       "      <td>Nerd Tweet: I’m getting really disappointed wi...</td>\n",
       "    </tr>\n",
       "    <tr>\n",
       "      <th>10355</th>\n",
       "      <td>12982</td>\n",
       "      <td>Xbox(Xseries)</td>\n",
       "      <td>Irrelevant</td>\n",
       "      <td>Casual reminder both cards and the nvidia grap...</td>\n",
       "    </tr>\n",
       "    <tr>\n",
       "      <th>64600</th>\n",
       "      <td>7866</td>\n",
       "      <td>MaddenNFL</td>\n",
       "      <td>Negative</td>\n",
       "      <td>@EAMaddenNFL how do you guys manage to make it...</td>\n",
       "    </tr>\n",
       "    <tr>\n",
       "      <th>33028</th>\n",
       "      <td>6467</td>\n",
       "      <td>Fortnite</td>\n",
       "      <td>Positive</td>\n",
       "      <td>Fortnite is literally freaking unmatched for i...</td>\n",
       "    </tr>\n",
       "  </tbody>\n",
       "</table>\n",
       "</div>"
      ],
      "text/plain": [
       "       Tweet_ID             Entity   Sentiment  \\\n",
       "16675      9657  PlayStation5(PS5)    Negative   \n",
       "8475       9454          Overwatch    Negative   \n",
       "10355     12982      Xbox(Xseries)  Irrelevant   \n",
       "64600      7866          MaddenNFL    Negative   \n",
       "33028      6467           Fortnite    Positive   \n",
       "\n",
       "                                           Tweet_content  \n",
       "16675  I think that this behavior of the PS5 casts a ...  \n",
       "8475   Nerd Tweet: I’m getting really disappointed wi...  \n",
       "10355  Casual reminder both cards and the nvidia grap...  \n",
       "64600  @EAMaddenNFL how do you guys manage to make it...  \n",
       "33028  Fortnite is literally freaking unmatched for i...  "
      ]
     },
     "execution_count": 6,
     "metadata": {},
     "output_type": "execute_result"
    }
   ],
   "source": [
    "train_df.sample(5)"
   ]
  },
  {
   "cell_type": "code",
   "execution_count": 7,
   "metadata": {
    "execution": {
     "iopub.execute_input": "2022-08-31T06:16:40.859854Z",
     "iopub.status.busy": "2022-08-31T06:16:40.859133Z",
     "iopub.status.idle": "2022-08-31T06:16:40.910971Z",
     "shell.execute_reply": "2022-08-31T06:16:40.909694Z",
     "shell.execute_reply.started": "2022-08-31T06:16:40.859793Z"
    }
   },
   "outputs": [
    {
     "name": "stdout",
     "output_type": "stream",
     "text": [
      "<class 'pandas.core.frame.DataFrame'>\n",
      "RangeIndex: 74682 entries, 0 to 74681\n",
      "Data columns (total 4 columns):\n",
      " #   Column         Non-Null Count  Dtype \n",
      "---  ------         --------------  ----- \n",
      " 0   Tweet_ID       74682 non-null  int64 \n",
      " 1   Entity         74682 non-null  object\n",
      " 2   Sentiment      74682 non-null  object\n",
      " 3   Tweet_content  73996 non-null  object\n",
      "dtypes: int64(1), object(3)\n",
      "memory usage: 2.3+ MB\n"
     ]
    }
   ],
   "source": [
    "train_df.info()"
   ]
  },
  {
   "cell_type": "code",
   "execution_count": 8,
   "metadata": {
    "execution": {
     "iopub.execute_input": "2022-08-31T06:16:53.594264Z",
     "iopub.status.busy": "2022-08-31T06:16:53.593828Z",
     "iopub.status.idle": "2022-08-31T06:16:53.608413Z",
     "shell.execute_reply": "2022-08-31T06:16:53.606949Z",
     "shell.execute_reply.started": "2022-08-31T06:16:53.594231Z"
    }
   },
   "outputs": [
    {
     "data": {
      "text/plain": [
       "Negative      22542\n",
       "Positive      20832\n",
       "Neutral       18318\n",
       "Irrelevant    12990\n",
       "Name: Sentiment, dtype: int64"
      ]
     },
     "execution_count": 8,
     "metadata": {},
     "output_type": "execute_result"
    }
   ],
   "source": [
    "train_df['Sentiment'].value_counts()"
   ]
  },
  {
   "cell_type": "code",
   "execution_count": 9,
   "metadata": {
    "execution": {
     "iopub.execute_input": "2022-08-15T18:00:41.675968Z",
     "iopub.status.busy": "2022-08-15T18:00:41.675436Z",
     "iopub.status.idle": "2022-08-15T18:00:41.960626Z",
     "shell.execute_reply": "2022-08-15T18:00:41.959747Z",
     "shell.execute_reply.started": "2022-08-15T18:00:41.675924Z"
    }
   },
   "outputs": [
    {
     "data": {
      "text/plain": [
       "<AxesSubplot:xlabel='Sentiment', ylabel='count'>"
      ]
     },
     "execution_count": 9,
     "metadata": {},
     "output_type": "execute_result"
    },
    {
     "data": {
      "image/png": "[encoded data removed]",
      "text/plain": [
       "<Figure size 432x288 with 1 Axes>"
      ]
     },
     "metadata": {},
     "output_type": "display_data"
    }
   ],
   "source": [
    "sns.countplot(x=train_df['Sentiment'])"
   ]
  },
  {
   "cell_type": "code",
   "execution_count": 10,
   "metadata": {
    "execution": {
     "iopub.execute_input": "2022-08-31T06:17:15.542179Z",
     "iopub.status.busy": "2022-08-31T06:17:15.54169Z",
     "iopub.status.idle": "2022-08-31T06:17:15.600754Z",
     "shell.execute_reply": "2022-08-31T06:17:15.599364Z",
     "shell.execute_reply.started": "2022-08-31T06:17:15.542142Z"
    }
   },
   "outputs": [
    {
     "data": {
      "text/plain": [
       "2700"
      ]
     },
     "execution_count": 10,
     "metadata": {},
     "output_type": "execute_result"
    }
   ],
   "source": [
    "train_df.duplicated().sum()"
   ]
  },
  {
   "cell_type": "code",
   "execution_count": 11,
   "metadata": {
    "execution": {
     "iopub.execute_input": "2022-08-31T06:17:08.708445Z",
     "iopub.status.busy": "2022-08-31T06:17:08.707938Z",
     "iopub.status.idle": "2022-08-31T06:17:08.776261Z",
     "shell.execute_reply": "2022-08-31T06:17:08.774539Z",
     "shell.execute_reply.started": "2022-08-31T06:17:08.708405Z"
    }
   },
   "outputs": [],
   "source": [
    "train_df= train_df.drop_duplicates()"
   ]
  },
  {
   "cell_type": "code",
   "execution_count": 12,
   "metadata": {
    "execution": {
     "iopub.execute_input": "2022-08-15T18:01:11.739659Z",
     "iopub.status.busy": "2022-08-15T18:01:11.7392Z",
     "iopub.status.idle": "2022-08-15T18:01:11.899736Z",
     "shell.execute_reply": "2022-08-15T18:01:11.898137Z",
     "shell.execute_reply.started": "2022-08-15T18:01:11.739623Z"
    }
   },
   "outputs": [
    {
     "data": {
      "text/plain": [
       "<AxesSubplot:ylabel='Sentiment'>"
      ]
     },
     "execution_count": 12,
     "metadata": {},
     "output_type": "execute_result"
    },
    {
     "data": {
      "image/png": "[encoded data removed]",
      "text/plain": [
       "<Figure size 360x360 with 1 Axes>"
      ]
     },
     "metadata": {},
     "output_type": "display_data"
    }
   ],
   "source": [
    "train_df.Sentiment.value_counts().plot(kind='pie', autopct='%1.0f%%',figsize=(5,5),colors=[\"red\", \"yellow\", \"green\",'blue'])\n"
   ]
  },
  {
   "cell_type": "code",
   "execution_count": 13,
   "metadata": {
    "execution": {
     "iopub.execute_input": "2022-08-15T18:01:25.115067Z",
     "iopub.status.busy": "2022-08-15T18:01:25.114553Z",
     "iopub.status.idle": "2022-08-15T18:01:25.978349Z",
     "shell.execute_reply": "2022-08-15T18:01:25.977035Z",
     "shell.execute_reply.started": "2022-08-15T18:01:25.115021Z"
    }
   },
   "outputs": [
    {
     "data": {
      "text/plain": [
       "<AxesSubplot:xlabel='Entity'>"
      ]
     },
     "execution_count": 13,
     "metadata": {},
     "output_type": "execute_result"
    },
    {
     "data": {
      "image/png": "[encoded data removed]",
      "text/plain": [
       "<Figure size 1440x1440 with 1 Axes>"
      ]
     },
     "metadata": {},
     "output_type": "display_data"
    }
   ],
   "source": [
    "Twitter_sentiment = train_df.groupby(['Entity', 'Sentiment']).Sentiment.count().unstack()\n",
    "Twitter_sentiment.plot(kind='bar',figsize=(20,20))"
   ]
  },
  {
   "cell_type": "markdown",
   "metadata": {},
   "source": [
    "# Data Cleaning"
   ]
  },
  {
   "cell_type": "code",
   "execution_count": 14,
   "metadata": {
    "execution": {
     "iopub.execute_input": "2022-08-31T06:17:32.990536Z",
     "iopub.status.busy": "2022-08-31T06:17:32.990007Z",
     "iopub.status.idle": "2022-08-31T06:17:33.02373Z",
     "shell.execute_reply": "2022-08-31T06:17:33.022553Z",
     "shell.execute_reply.started": "2022-08-31T06:17:32.990496Z"
    }
   },
   "outputs": [],
   "source": [
    "# encoder for target feature\n",
    "from sklearn import preprocessing\n",
    "lb = preprocessing.LabelEncoder()\n",
    "train_df['Sentiment']=lb.fit_transform(train_df['Sentiment'])"
   ]
  },
  {
   "cell_type": "code",
   "execution_count": 15,
   "metadata": {
    "execution": {
     "iopub.execute_input": "2022-08-31T06:17:48.901074Z",
     "iopub.status.busy": "2022-08-31T06:17:48.900384Z",
     "iopub.status.idle": "2022-08-31T06:17:48.917455Z",
     "shell.execute_reply": "2022-08-31T06:17:48.916013Z",
     "shell.execute_reply.started": "2022-08-31T06:17:48.901018Z"
    }
   },
   "outputs": [
    {
     "data": {
      "text/plain": [
       "326"
      ]
     },
     "execution_count": 15,
     "metadata": {},
     "output_type": "execute_result"
    }
   ],
   "source": [
    "train_df['Tweet_content'].isnull().sum()"
   ]
  },
  {
   "cell_type": "code",
   "execution_count": 16,
   "metadata": {
    "execution": {
     "iopub.execute_input": "2022-08-31T06:17:45.078414Z",
     "iopub.status.busy": "2022-08-31T06:17:45.07703Z",
     "iopub.status.idle": "2022-08-31T06:17:45.101755Z",
     "shell.execute_reply": "2022-08-31T06:17:45.100622Z",
     "shell.execute_reply.started": "2022-08-31T06:17:45.078372Z"
    }
   },
   "outputs": [],
   "source": [
    "train_df.dropna(axis=0, inplace=True)"
   ]
  },
  {
   "cell_type": "code",
   "execution_count": 17,
   "metadata": {
    "execution": {
     "iopub.execute_input": "2022-08-31T06:17:59.624529Z",
     "iopub.status.busy": "2022-08-31T06:17:59.623621Z",
     "iopub.status.idle": "2022-08-31T06:17:59.631052Z",
     "shell.execute_reply": "2022-08-31T06:17:59.630096Z",
     "shell.execute_reply.started": "2022-08-31T06:17:59.624484Z"
    }
   },
   "outputs": [],
   "source": [
    "tweet_train  = train_df[\"Tweet_content\"]\n",
    "tweet_valid=valid_df[\"Tweet_content\"]\n",
    "target=train_df['Sentiment']"
   ]
  },
  {
   "cell_type": "markdown",
   "metadata": {},
   "source": [
    "# Step (1): Remove Additional Letter such as @"
   ]
  },
  {
   "cell_type": "code",
   "execution_count": 18,
   "metadata": {
    "execution": {
     "iopub.execute_input": "2022-08-31T06:20:14.053239Z",
     "iopub.status.busy": "2022-08-31T06:20:14.051658Z",
     "iopub.status.idle": "2022-08-31T06:20:14.168253Z",
     "shell.execute_reply": "2022-08-31T06:20:14.166426Z",
     "shell.execute_reply.started": "2022-08-31T06:20:14.053164Z"
    }
   },
   "outputs": [],
   "source": [
    "REPLACE_WITH_SPACE = re.compile(\"(@)\")\n",
    "SPACE = \" \"\n",
    "\n",
    "def preprocess_reviews(reviews):  \n",
    "    reviews = [REPLACE_WITH_SPACE.sub(SPACE, line.lower()) for line in reviews]\n",
    "    \n",
    "    return reviews\n",
    "\n",
    "reviews_train_clean = preprocess_reviews(tweet_train)\n",
    "reviews_valid_clean = preprocess_reviews(tweet_valid)"
   ]
  },
  {
   "cell_type": "markdown",
   "metadata": {},
   "source": [
    "# Step (2): Remove Stop Words"
   ]
  },
  {
   "cell_type": "code",
   "execution_count": 19,
   "metadata": {
    "execution": {
     "iopub.execute_input": "2022-08-31T06:20:20.744231Z",
     "iopub.status.busy": "2022-08-31T06:20:20.743735Z",
     "iopub.status.idle": "2022-08-31T06:20:24.231765Z",
     "shell.execute_reply": "2022-08-31T06:20:24.230612Z",
     "shell.execute_reply.started": "2022-08-31T06:20:20.744177Z"
    }
   },
   "outputs": [],
   "source": [
    "def remove_stop_words(corpus):\n",
    "    removed_stop_words = []\n",
    "    for review in corpus:\n",
    "        removed_stop_words.append(\n",
    "            ' '.join([word for word in review.split()  if word not in english_stop_words]))\n",
    "    return removed_stop_words\n",
    "\n",
    "no_stop_words_train = remove_stop_words(reviews_train_clean)\n",
    "no_stop_words_valid = remove_stop_words(reviews_valid_clean)"
   ]
  },
  {
   "cell_type": "markdown",
   "metadata": {},
   "source": [
    "# Step(3) : Stemming"
   ]
  },
  {
   "cell_type": "code",
   "execution_count": 20,
   "metadata": {
    "execution": {
     "iopub.execute_input": "2022-08-31T06:22:10.966262Z",
     "iopub.status.busy": "2022-08-31T06:22:10.964372Z",
     "iopub.status.idle": "2022-08-31T06:22:34.044993Z",
     "shell.execute_reply": "2022-08-31T06:22:34.043744Z",
     "shell.execute_reply.started": "2022-08-31T06:22:10.966178Z"
    }
   },
   "outputs": [],
   "source": [
    "\n",
    "def get_stemmed_text(corpus):\n",
    "    stemmer = PorterStemmer()\n",
    "\n",
    "    return [' '.join([stemmer.stem(word) for word in review.split()]) for review in corpus]\n",
    "\n",
    "stemmed_reviews_train = get_stemmed_text(no_stop_words_train)\n",
    "stemmed_reviews_test = get_stemmed_text(no_stop_words_valid)"
   ]
  },
  {
   "cell_type": "markdown",
   "metadata": {},
   "source": [
    "# Step(4) : TF-IDF"
   ]
  },
  {
   "cell_type": "code",
   "execution_count": 21,
   "metadata": {
    "execution": {
     "iopub.execute_input": "2022-08-31T06:22:36.206014Z",
     "iopub.status.busy": "2022-08-31T06:22:36.20563Z",
     "iopub.status.idle": "2022-08-31T06:22:38.39927Z",
     "shell.execute_reply": "2022-08-31T06:22:38.397871Z",
     "shell.execute_reply.started": "2022-08-31T06:22:36.205981Z"
    }
   },
   "outputs": [],
   "source": [
    "tfidf_vectorizer = TfidfVectorizer()\n",
    "tfidf_vectorizer.fit(stemmed_reviews_train)\n",
    "X = tfidf_vectorizer.transform(stemmed_reviews_train)\n",
    "X_test = tfidf_vectorizer.transform(stemmed_reviews_test)\n",
    "\n"
   ]
  },
  {
   "cell_type": "markdown",
   "metadata": {},
   "source": [
    "# Step(5) : Spliting Data "
   ]
  },
  {
   "cell_type": "code",
   "execution_count": 22,
   "metadata": {},
   "outputs": [],
   "source": [
    "X_train, X_val, y_train, y_val = train_test_split(X, target, train_size = 0.75)"
   ]
  },
  {
   "cell_type": "markdown",
   "metadata": {},
   "source": [
    "# Step(6) : Machine Learing Model"
   ]
  },
  {
   "cell_type": "code",
   "execution_count": null,
   "metadata": {
    "execution": {
     "iopub.execute_input": "2022-08-31T06:57:42.493152Z",
     "iopub.status.busy": "2022-08-31T06:57:42.491955Z",
     "iopub.status.idle": "2022-08-31T07:20:11.060623Z",
     "shell.execute_reply": "2022-08-31T07:20:11.05927Z",
     "shell.execute_reply.started": "2022-08-31T06:57:42.493079Z"
    }
   },
   "outputs": [],
   "source": [
    "text_classifier = RandomForestClassifier(n_estimators=500, random_state=0)\n",
    "text_classifier.fit(X_train, y_train)\n",
    "\n",
    "y_pred=text_classifier.predict(X_val)\n",
    "print(classification_report(y_val,y_pred))"
   ]
  },
  {
   "cell_type": "code",
   "execution_count": null,
   "metadata": {},
   "outputs": [],
   "source": []
  }
 ],
 "metadata": {
  "kernelspec": {
   "display_name": "Python 3",
   "language": "python",
   "name": "python3"
  },
  "language_info": {
   "codemirror_mode": {
    "name": "ipython",
    "version": 3
   },
   "file_extension": ".py",
   "mimetype": "text/x-python",
   "name": "python",
   "nbconvert_exporter": "python",
   "pygments_lexer": "ipython3",
   "version": "3.8.8"
  }
 },
 "nbformat": 4,
 "nbformat_minor": 4
}
